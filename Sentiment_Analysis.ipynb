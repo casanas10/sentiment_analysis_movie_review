{
 "cells": [
  {
   "cell_type": "markdown",
   "metadata": {},
   "source": [
    "# Sentiment Analysis for Movie Reviews\n",
    "\n",
    "We are going to be exploring the Standford Large Movie Review Dataset http://ai.stanford.edu/~amaas/data/sentiment/"
   ]
  },
  {
   "cell_type": "code",
   "execution_count": 1,
   "metadata": {},
   "outputs": [],
   "source": [
    "import nltk \n",
    "# nltk.download()"
   ]
  },
  {
   "cell_type": "markdown",
   "metadata": {},
   "source": [
    "### Read in text data\n",
    "\n",
    "The data is saved in the following file structure"
   ]
  },
  {
   "cell_type": "code",
   "execution_count": 2,
   "metadata": {},
   "outputs": [],
   "source": [
    "# aclimdb/\n",
    "#     test/\n",
    "#          pos/\n",
    "#              [id]_[rating]\n",
    "#              ....\n",
    "#          neg/\n",
    "#              [id]_[rating]\n",
    "#              ....\n",
    "#     train/\n",
    "#          pos/\n",
    "#              [id]_[rating]\n",
    "#              ....\n",
    "#          neg/\n",
    "#              -[id]_[rating]\n",
    "#              ...."
   ]
  },
  {
   "cell_type": "code",
   "execution_count": 3,
   "metadata": {},
   "outputs": [],
   "source": [
    "import glob\n",
    "import pandas as pd\n",
    "pd.set_option('display.max_colwidth', 200) # set max number of characters can see in pd dataframe\n",
    "\n",
    "#path location to the positive directory\n",
    "positive_path = 'data/aclimdb/train/pos/*.txt'\n",
    "positive_files = glob.glob(positive_path)\n",
    "\n",
    "body = []\n",
    "\n",
    "for name in positive_files:\n",
    "    with open(name) as f:\n",
    "        body.append(f.read())"
   ]
  },
  {
   "cell_type": "code",
   "execution_count": 4,
   "metadata": {},
   "outputs": [
    {
     "name": "stdout",
     "output_type": "stream",
     "text": [
      "12500\n"
     ]
    }
   ],
   "source": [
    "print(len(body))"
   ]
  },
  {
   "cell_type": "code",
   "execution_count": 5,
   "metadata": {},
   "outputs": [
    {
     "data": {
      "text/html": [
       "<div>\n",
       "<style scoped>\n",
       "    .dataframe tbody tr th:only-of-type {\n",
       "        vertical-align: middle;\n",
       "    }\n",
       "\n",
       "    .dataframe tbody tr th {\n",
       "        vertical-align: top;\n",
       "    }\n",
       "\n",
       "    .dataframe thead th {\n",
       "        text-align: right;\n",
       "    }\n",
       "</style>\n",
       "<table border=\"1\" class=\"dataframe\">\n",
       "  <thead>\n",
       "    <tr style=\"text-align: right;\">\n",
       "      <th></th>\n",
       "      <th>label</th>\n",
       "      <th>body</th>\n",
       "    </tr>\n",
       "  </thead>\n",
       "  <tbody>\n",
       "    <tr>\n",
       "      <th>0</th>\n",
       "      <td>1</td>\n",
       "      <td>For a movie that gets no respect there sure are a lot of memorable quotes listed for this gem. Imagine a movie where Joe Piscopo is actually funny! Maureen Stapleton is a scene stealer. The Moroni...</td>\n",
       "    </tr>\n",
       "    <tr>\n",
       "      <th>1</th>\n",
       "      <td>1</td>\n",
       "      <td>Bizarre horror movie filled with famous faces but stolen by Cristina Raines (later of TV's \"Flamingo Road\") as a pretty but somewhat unstable model with a gummy smile who is slated to pay for her ...</td>\n",
       "    </tr>\n",
       "    <tr>\n",
       "      <th>2</th>\n",
       "      <td>1</td>\n",
       "      <td>A solid, if unremarkable film. Matthau, as Einstein, was wonderful. My favorite part, and the only thing that would make me go out of my way to see this again, was the wonderful scene with the phy...</td>\n",
       "    </tr>\n",
       "    <tr>\n",
       "      <th>3</th>\n",
       "      <td>1</td>\n",
       "      <td>It's a strange feeling to sit alone in a theater occupied by parents and their rollicking kids. I felt like instead of a movie ticket, I should have been given a NAMBLA membership.&lt;br /&gt;&lt;br /&gt;Base...</td>\n",
       "    </tr>\n",
       "    <tr>\n",
       "      <th>4</th>\n",
       "      <td>1</td>\n",
       "      <td>You probably all already know this by now, but 5 additional episodes never aired can be viewed on ABC.com I've watched a lot of television over the years and this is possibly my favorite show, eve...</td>\n",
       "    </tr>\n",
       "  </tbody>\n",
       "</table>\n",
       "</div>"
      ],
      "text/plain": [
       "  label  \\\n",
       "0     1   \n",
       "1     1   \n",
       "2     1   \n",
       "3     1   \n",
       "4     1   \n",
       "\n",
       "                                                                                                                                                                                                      body  \n",
       "0  For a movie that gets no respect there sure are a lot of memorable quotes listed for this gem. Imagine a movie where Joe Piscopo is actually funny! Maureen Stapleton is a scene stealer. The Moroni...  \n",
       "1  Bizarre horror movie filled with famous faces but stolen by Cristina Raines (later of TV's \"Flamingo Road\") as a pretty but somewhat unstable model with a gummy smile who is slated to pay for her ...  \n",
       "2  A solid, if unremarkable film. Matthau, as Einstein, was wonderful. My favorite part, and the only thing that would make me go out of my way to see this again, was the wonderful scene with the phy...  \n",
       "3  It's a strange feeling to sit alone in a theater occupied by parents and their rollicking kids. I felt like instead of a movie ticket, I should have been given a NAMBLA membership.<br /><br />Base...  \n",
       "4  You probably all already know this by now, but 5 additional episodes never aired can be viewed on ABC.com I've watched a lot of television over the years and this is possibly my favorite show, eve...  "
      ]
     },
     "execution_count": 5,
     "metadata": {},
     "output_type": "execute_result"
    }
   ],
   "source": [
    "positive_corpus = pd.DataFrame({\n",
    "    'label': '1',\n",
    "    'body': body\n",
    "})\n",
    "\n",
    "positive_corpus.head()"
   ]
  },
  {
   "cell_type": "code",
   "execution_count": 6,
   "metadata": {},
   "outputs": [],
   "source": [
    "#path location to the positive directory\n",
    "negative_path = 'data/aclimdb/train/pos/*.txt'\n",
    "negative_files = glob.glob(negative_path)\n",
    "\n",
    "body = []\n",
    "\n",
    "for name in negative_files:\n",
    "    with open(name) as f:\n",
    "        body.append(f.read())"
   ]
  },
  {
   "cell_type": "code",
   "execution_count": 7,
   "metadata": {},
   "outputs": [
    {
     "data": {
      "text/html": [
       "<div>\n",
       "<style scoped>\n",
       "    .dataframe tbody tr th:only-of-type {\n",
       "        vertical-align: middle;\n",
       "    }\n",
       "\n",
       "    .dataframe tbody tr th {\n",
       "        vertical-align: top;\n",
       "    }\n",
       "\n",
       "    .dataframe thead th {\n",
       "        text-align: right;\n",
       "    }\n",
       "</style>\n",
       "<table border=\"1\" class=\"dataframe\">\n",
       "  <thead>\n",
       "    <tr style=\"text-align: right;\">\n",
       "      <th></th>\n",
       "      <th>label</th>\n",
       "      <th>body</th>\n",
       "    </tr>\n",
       "  </thead>\n",
       "  <tbody>\n",
       "    <tr>\n",
       "      <th>0</th>\n",
       "      <td>0</td>\n",
       "      <td>For a movie that gets no respect there sure are a lot of memorable quotes listed for this gem. Imagine a movie where Joe Piscopo is actually funny! Maureen Stapleton is a scene stealer. The Moroni...</td>\n",
       "    </tr>\n",
       "    <tr>\n",
       "      <th>1</th>\n",
       "      <td>0</td>\n",
       "      <td>Bizarre horror movie filled with famous faces but stolen by Cristina Raines (later of TV's \"Flamingo Road\") as a pretty but somewhat unstable model with a gummy smile who is slated to pay for her ...</td>\n",
       "    </tr>\n",
       "    <tr>\n",
       "      <th>2</th>\n",
       "      <td>0</td>\n",
       "      <td>A solid, if unremarkable film. Matthau, as Einstein, was wonderful. My favorite part, and the only thing that would make me go out of my way to see this again, was the wonderful scene with the phy...</td>\n",
       "    </tr>\n",
       "    <tr>\n",
       "      <th>3</th>\n",
       "      <td>0</td>\n",
       "      <td>It's a strange feeling to sit alone in a theater occupied by parents and their rollicking kids. I felt like instead of a movie ticket, I should have been given a NAMBLA membership.&lt;br /&gt;&lt;br /&gt;Base...</td>\n",
       "    </tr>\n",
       "    <tr>\n",
       "      <th>4</th>\n",
       "      <td>0</td>\n",
       "      <td>You probably all already know this by now, but 5 additional episodes never aired can be viewed on ABC.com I've watched a lot of television over the years and this is possibly my favorite show, eve...</td>\n",
       "    </tr>\n",
       "  </tbody>\n",
       "</table>\n",
       "</div>"
      ],
      "text/plain": [
       "  label  \\\n",
       "0     0   \n",
       "1     0   \n",
       "2     0   \n",
       "3     0   \n",
       "4     0   \n",
       "\n",
       "                                                                                                                                                                                                      body  \n",
       "0  For a movie that gets no respect there sure are a lot of memorable quotes listed for this gem. Imagine a movie where Joe Piscopo is actually funny! Maureen Stapleton is a scene stealer. The Moroni...  \n",
       "1  Bizarre horror movie filled with famous faces but stolen by Cristina Raines (later of TV's \"Flamingo Road\") as a pretty but somewhat unstable model with a gummy smile who is slated to pay for her ...  \n",
       "2  A solid, if unremarkable film. Matthau, as Einstein, was wonderful. My favorite part, and the only thing that would make me go out of my way to see this again, was the wonderful scene with the phy...  \n",
       "3  It's a strange feeling to sit alone in a theater occupied by parents and their rollicking kids. I felt like instead of a movie ticket, I should have been given a NAMBLA membership.<br /><br />Base...  \n",
       "4  You probably all already know this by now, but 5 additional episodes never aired can be viewed on ABC.com I've watched a lot of television over the years and this is possibly my favorite show, eve...  "
      ]
     },
     "execution_count": 7,
     "metadata": {},
     "output_type": "execute_result"
    }
   ],
   "source": [
    "negative_corpus = pd.DataFrame({\n",
    "    'label': '0',\n",
    "    'body': body\n",
    "})\n",
    "\n",
    "negative_corpus.head()"
   ]
  },
  {
   "cell_type": "code",
   "execution_count": 8,
   "metadata": {},
   "outputs": [
    {
     "data": {
      "text/html": [
       "<div>\n",
       "<style scoped>\n",
       "    .dataframe tbody tr th:only-of-type {\n",
       "        vertical-align: middle;\n",
       "    }\n",
       "\n",
       "    .dataframe tbody tr th {\n",
       "        vertical-align: top;\n",
       "    }\n",
       "\n",
       "    .dataframe thead th {\n",
       "        text-align: right;\n",
       "    }\n",
       "</style>\n",
       "<table border=\"1\" class=\"dataframe\">\n",
       "  <thead>\n",
       "    <tr style=\"text-align: right;\">\n",
       "      <th></th>\n",
       "      <th>label</th>\n",
       "      <th>body</th>\n",
       "    </tr>\n",
       "  </thead>\n",
       "  <tbody>\n",
       "    <tr>\n",
       "      <th>0</th>\n",
       "      <td>1</td>\n",
       "      <td>This film is a bit reminiscent of the German film, THE NEVERENDING STORY because a child is magically transported to a strange land in order to be a hero. However, due to far superior modern techn...</td>\n",
       "    </tr>\n",
       "    <tr>\n",
       "      <th>1</th>\n",
       "      <td>0</td>\n",
       "      <td>An old vaudeville team of Willy Clark (Walter Matthau) and Al Lewis (George Burns) were one of the best known but they broke up hating each other. Over 20 years later they agree to get together fo...</td>\n",
       "    </tr>\n",
       "    <tr>\n",
       "      <th>2</th>\n",
       "      <td>1</td>\n",
       "      <td>Burlinson and Thornton give an outstanding performance in this movie, along with Dennehy. Although it is at first thought to be only about love, it really goes down deeper than that. The beauty of...</td>\n",
       "    </tr>\n",
       "    <tr>\n",
       "      <th>3</th>\n",
       "      <td>0</td>\n",
       "      <td>Louis Sachar's compelling children's classic is about as Disney as Freddy Krueger. It's got murder, racism, facial disfigurement and killer lizards.&lt;br /&gt;&lt;br /&gt;Tightly plotted, it's a multi-layere...</td>\n",
       "    </tr>\n",
       "    <tr>\n",
       "      <th>4</th>\n",
       "      <td>0</td>\n",
       "      <td>This is one of my favourite martial arts movies from Hong Kong. It is one of John Woo's earliest films and one of only a few traditional martial arts movies he directed. You can see his influences...</td>\n",
       "    </tr>\n",
       "    <tr>\n",
       "      <th>5</th>\n",
       "      <td>0</td>\n",
       "      <td>I have complained to ABC about the cancellation of six degrees. If enough people do the same then it could be enough to bring this fabulous show back to life!! Just go onto the official site and t...</td>\n",
       "    </tr>\n",
       "    <tr>\n",
       "      <th>6</th>\n",
       "      <td>0</td>\n",
       "      <td>This Belgian film, directed by Tom Barman, singer of the well-known group dEUS, will not be favoured by everyone. For the simple reason that there isn't a clear story or even a plot. This movie ju...</td>\n",
       "    </tr>\n",
       "    <tr>\n",
       "      <th>7</th>\n",
       "      <td>1</td>\n",
       "      <td>What is so taboo about love?! People seem to have major problems with the transgenered.&lt;br /&gt;&lt;br /&gt;The title of this movie didn't catch my eye. It was a grainy shot about 4 minutes into the movie ...</td>\n",
       "    </tr>\n",
       "    <tr>\n",
       "      <th>8</th>\n",
       "      <td>0</td>\n",
       "      <td>The interesting aspect of \"The Apprentice\" is it demonstrates that the traditional job interview and resume do not necessarily predict teamwork skills, task dedication, and job performance. And th...</td>\n",
       "    </tr>\n",
       "    <tr>\n",
       "      <th>9</th>\n",
       "      <td>0</td>\n",
       "      <td>This TV-series was one of the ones I loved when I was a kid. Even though I see it now through the pink-shaded glasses of nostalgia, I can still tell it was a quality show, very educational but sti...</td>\n",
       "    </tr>\n",
       "  </tbody>\n",
       "</table>\n",
       "</div>"
      ],
      "text/plain": [
       "  label  \\\n",
       "0     1   \n",
       "1     0   \n",
       "2     1   \n",
       "3     0   \n",
       "4     0   \n",
       "5     0   \n",
       "6     0   \n",
       "7     1   \n",
       "8     0   \n",
       "9     0   \n",
       "\n",
       "                                                                                                                                                                                                      body  \n",
       "0  This film is a bit reminiscent of the German film, THE NEVERENDING STORY because a child is magically transported to a strange land in order to be a hero. However, due to far superior modern techn...  \n",
       "1  An old vaudeville team of Willy Clark (Walter Matthau) and Al Lewis (George Burns) were one of the best known but they broke up hating each other. Over 20 years later they agree to get together fo...  \n",
       "2  Burlinson and Thornton give an outstanding performance in this movie, along with Dennehy. Although it is at first thought to be only about love, it really goes down deeper than that. The beauty of...  \n",
       "3  Louis Sachar's compelling children's classic is about as Disney as Freddy Krueger. It's got murder, racism, facial disfigurement and killer lizards.<br /><br />Tightly plotted, it's a multi-layere...  \n",
       "4  This is one of my favourite martial arts movies from Hong Kong. It is one of John Woo's earliest films and one of only a few traditional martial arts movies he directed. You can see his influences...  \n",
       "5  I have complained to ABC about the cancellation of six degrees. If enough people do the same then it could be enough to bring this fabulous show back to life!! Just go onto the official site and t...  \n",
       "6  This Belgian film, directed by Tom Barman, singer of the well-known group dEUS, will not be favoured by everyone. For the simple reason that there isn't a clear story or even a plot. This movie ju...  \n",
       "7  What is so taboo about love?! People seem to have major problems with the transgenered.<br /><br />The title of this movie didn't catch my eye. It was a grainy shot about 4 minutes into the movie ...  \n",
       "8  The interesting aspect of \"The Apprentice\" is it demonstrates that the traditional job interview and resume do not necessarily predict teamwork skills, task dedication, and job performance. And th...  \n",
       "9  This TV-series was one of the ones I loved when I was a kid. Even though I see it now through the pink-shaded glasses of nostalgia, I can still tell it was a quality show, very educational but sti...  "
      ]
     },
     "execution_count": 8,
     "metadata": {},
     "output_type": "execute_result"
    }
   ],
   "source": [
    "#shuffle the positive and negative reviews and reset the index \n",
    "full_corpus = pd.concat([positive_corpus, negative_corpus])\n",
    "data = full_corpus.sample(frac=1).reset_index(drop=True)\n",
    "data.head(10)"
   ]
  },
  {
   "cell_type": "markdown",
   "metadata": {},
   "source": [
    "### Exploring Dataset"
   ]
  },
  {
   "cell_type": "code",
   "execution_count": 9,
   "metadata": {},
   "outputs": [
    {
     "name": "stdout",
     "output_type": "stream",
     "text": [
      "Input data has 25000 rows and 2 columns\n"
     ]
    }
   ],
   "source": [
    "# What is the shape of this datataset\n",
    "\n",
    "print(\"Input data has {} rows and {} columns\".format(len(full_corpus), len(full_corpus.columns)))"
   ]
  },
  {
   "cell_type": "code",
   "execution_count": 10,
   "metadata": {},
   "outputs": [
    {
     "name": "stdout",
     "output_type": "stream",
     "text": [
      "Out of 25000 rows, 12500 are negative, 12500 are positive\n"
     ]
    }
   ],
   "source": [
    "# How many revies are negative and positive?\n",
    "\n",
    "print(\"Out of {} rows, {} are negative, {} are positive\".format(len(full_corpus), \n",
    "                                                       len(full_corpus[full_corpus['label']=='0']), \n",
    "                                                       len(full_corpus[full_corpus['label']=='1'])))"
   ]
  },
  {
   "cell_type": "code",
   "execution_count": 11,
   "metadata": {},
   "outputs": [
    {
     "name": "stdout",
     "output_type": "stream",
     "text": [
      "Number of null in label: 0\n",
      "Number of null in text: 0\n"
     ]
    }
   ],
   "source": [
    "# Is there any missing data?\n",
    "print(\"Number of null in label: {}\".format(full_corpus['label'].isnull().sum()))\n",
    "print(\"Number of null in text: {}\".format(full_corpus['body'].isnull().sum()))"
   ]
  },
  {
   "cell_type": "markdown",
   "metadata": {},
   "source": [
    "## Pre-processing text data\n",
    "\n",
    "Clean up the text data by removing unnecesary information with tools such as :\n",
    "- Removing punctuation\n",
    "- Tokenization \n",
    "- Removing stopwords\n",
    "- Lemmatizing/Stemming words"
   ]
  },
  {
   "cell_type": "markdown",
   "metadata": {},
   "source": [
    "### Removing Punctuation\n",
    "\n",
    "- removing unuseful punctuation from text '!\"#$%&\\'()*+,-./:;<=>?@[\\\\]^_`{|}~'"
   ]
  },
  {
   "cell_type": "code",
   "execution_count": 16,
   "metadata": {},
   "outputs": [
    {
     "data": {
      "text/plain": [
       "'!\"#$%&\\'()*+,-./:;<=>?@[\\\\]^_`{|}~'"
      ]
     },
     "execution_count": 16,
     "metadata": {},
     "output_type": "execute_result"
    }
   ],
   "source": [
    "import string \n",
    "\n",
    "string.punctuation"
   ]
  },
  {
   "cell_type": "code",
   "execution_count": 17,
   "metadata": {},
   "outputs": [],
   "source": [
    "def remove_punct(text):\n",
    "    text_nopunct = \"\".join([char for char in text if char not in string.punctuation])\n",
    "    return text_nopunct"
   ]
  },
  {
   "cell_type": "code",
   "execution_count": 18,
   "metadata": {},
   "outputs": [
    {
     "data": {
      "text/html": [
       "<div>\n",
       "<style scoped>\n",
       "    .dataframe tbody tr th:only-of-type {\n",
       "        vertical-align: middle;\n",
       "    }\n",
       "\n",
       "    .dataframe tbody tr th {\n",
       "        vertical-align: top;\n",
       "    }\n",
       "\n",
       "    .dataframe thead th {\n",
       "        text-align: right;\n",
       "    }\n",
       "</style>\n",
       "<table border=\"1\" class=\"dataframe\">\n",
       "  <thead>\n",
       "    <tr style=\"text-align: right;\">\n",
       "      <th></th>\n",
       "      <th>label</th>\n",
       "      <th>body</th>\n",
       "      <th>body_nopunct</th>\n",
       "    </tr>\n",
       "  </thead>\n",
       "  <tbody>\n",
       "    <tr>\n",
       "      <th>0</th>\n",
       "      <td>1</td>\n",
       "      <td>This film is a bit reminiscent of the German film, THE NEVERENDING STORY because a child is magically transported to a strange land in order to be a hero. However, due to far superior modern techn...</td>\n",
       "      <td>This film is a bit reminiscent of the German film THE NEVERENDING STORY because a child is magically transported to a strange land in order to be a hero However due to far superior modern technolo...</td>\n",
       "    </tr>\n",
       "    <tr>\n",
       "      <th>1</th>\n",
       "      <td>0</td>\n",
       "      <td>An old vaudeville team of Willy Clark (Walter Matthau) and Al Lewis (George Burns) were one of the best known but they broke up hating each other. Over 20 years later they agree to get together fo...</td>\n",
       "      <td>An old vaudeville team of Willy Clark Walter Matthau and Al Lewis George Burns were one of the best known but they broke up hating each other Over 20 years later they agree to get together for a T...</td>\n",
       "    </tr>\n",
       "    <tr>\n",
       "      <th>2</th>\n",
       "      <td>1</td>\n",
       "      <td>Burlinson and Thornton give an outstanding performance in this movie, along with Dennehy. Although it is at first thought to be only about love, it really goes down deeper than that. The beauty of...</td>\n",
       "      <td>Burlinson and Thornton give an outstanding performance in this movie along with Dennehy Although it is at first thought to be only about love it really goes down deeper than that The beauty of nat...</td>\n",
       "    </tr>\n",
       "    <tr>\n",
       "      <th>3</th>\n",
       "      <td>0</td>\n",
       "      <td>Louis Sachar's compelling children's classic is about as Disney as Freddy Krueger. It's got murder, racism, facial disfigurement and killer lizards.&lt;br /&gt;&lt;br /&gt;Tightly plotted, it's a multi-layere...</td>\n",
       "      <td>Louis Sachars compelling childrens classic is about as Disney as Freddy Krueger Its got murder racism facial disfigurement and killer lizardsbr br Tightly plotted its a multilayered interlinking s...</td>\n",
       "    </tr>\n",
       "    <tr>\n",
       "      <th>4</th>\n",
       "      <td>0</td>\n",
       "      <td>This is one of my favourite martial arts movies from Hong Kong. It is one of John Woo's earliest films and one of only a few traditional martial arts movies he directed. You can see his influences...</td>\n",
       "      <td>This is one of my favourite martial arts movies from Hong Kong It is one of John Woos earliest films and one of only a few traditional martial arts movies he directed You can see his influences fr...</td>\n",
       "    </tr>\n",
       "  </tbody>\n",
       "</table>\n",
       "</div>"
      ],
      "text/plain": [
       "  label  \\\n",
       "0     1   \n",
       "1     0   \n",
       "2     1   \n",
       "3     0   \n",
       "4     0   \n",
       "\n",
       "                                                                                                                                                                                                      body  \\\n",
       "0  This film is a bit reminiscent of the German film, THE NEVERENDING STORY because a child is magically transported to a strange land in order to be a hero. However, due to far superior modern techn...   \n",
       "1  An old vaudeville team of Willy Clark (Walter Matthau) and Al Lewis (George Burns) were one of the best known but they broke up hating each other. Over 20 years later they agree to get together fo...   \n",
       "2  Burlinson and Thornton give an outstanding performance in this movie, along with Dennehy. Although it is at first thought to be only about love, it really goes down deeper than that. The beauty of...   \n",
       "3  Louis Sachar's compelling children's classic is about as Disney as Freddy Krueger. It's got murder, racism, facial disfigurement and killer lizards.<br /><br />Tightly plotted, it's a multi-layere...   \n",
       "4  This is one of my favourite martial arts movies from Hong Kong. It is one of John Woo's earliest films and one of only a few traditional martial arts movies he directed. You can see his influences...   \n",
       "\n",
       "                                                                                                                                                                                              body_nopunct  \n",
       "0  This film is a bit reminiscent of the German film THE NEVERENDING STORY because a child is magically transported to a strange land in order to be a hero However due to far superior modern technolo...  \n",
       "1  An old vaudeville team of Willy Clark Walter Matthau and Al Lewis George Burns were one of the best known but they broke up hating each other Over 20 years later they agree to get together for a T...  \n",
       "2  Burlinson and Thornton give an outstanding performance in this movie along with Dennehy Although it is at first thought to be only about love it really goes down deeper than that The beauty of nat...  \n",
       "3  Louis Sachars compelling childrens classic is about as Disney as Freddy Krueger Its got murder racism facial disfigurement and killer lizardsbr br Tightly plotted its a multilayered interlinking s...  \n",
       "4  This is one of my favourite martial arts movies from Hong Kong It is one of John Woos earliest films and one of only a few traditional martial arts movies he directed You can see his influences fr...  "
      ]
     },
     "execution_count": 18,
     "metadata": {},
     "output_type": "execute_result"
    }
   ],
   "source": [
    "data['body_nopunct'] = data['body'].apply(lambda x: remove_punct(x))\n",
    "data.head()"
   ]
  },
  {
   "cell_type": "markdown",
   "metadata": {},
   "source": [
    "### Tokenization \n",
    "- Split the text body into list of words "
   ]
  },
  {
   "cell_type": "code",
   "execution_count": 19,
   "metadata": {},
   "outputs": [],
   "source": [
    "import re # regex\n",
    "\n",
    "def tokenize(text):\n",
    "    tokens = re.split('\\W+', text)\n",
    "    return tokens"
   ]
  },
  {
   "cell_type": "code",
   "execution_count": 20,
   "metadata": {},
   "outputs": [
    {
     "data": {
      "text/html": [
       "<div>\n",
       "<style scoped>\n",
       "    .dataframe tbody tr th:only-of-type {\n",
       "        vertical-align: middle;\n",
       "    }\n",
       "\n",
       "    .dataframe tbody tr th {\n",
       "        vertical-align: top;\n",
       "    }\n",
       "\n",
       "    .dataframe thead th {\n",
       "        text-align: right;\n",
       "    }\n",
       "</style>\n",
       "<table border=\"1\" class=\"dataframe\">\n",
       "  <thead>\n",
       "    <tr style=\"text-align: right;\">\n",
       "      <th></th>\n",
       "      <th>label</th>\n",
       "      <th>body</th>\n",
       "      <th>body_nopunct</th>\n",
       "      <th>body_tokenized</th>\n",
       "    </tr>\n",
       "  </thead>\n",
       "  <tbody>\n",
       "    <tr>\n",
       "      <th>0</th>\n",
       "      <td>1</td>\n",
       "      <td>This film is a bit reminiscent of the German film, THE NEVERENDING STORY because a child is magically transported to a strange land in order to be a hero. However, due to far superior modern techn...</td>\n",
       "      <td>This film is a bit reminiscent of the German film THE NEVERENDING STORY because a child is magically transported to a strange land in order to be a hero However due to far superior modern technolo...</td>\n",
       "      <td>[This, film, is, a, bit, reminiscent, of, the, German, film, THE, NEVERENDING, STORY, because, a, child, is, magically, transported, to, a, strange, land, in, order, to, be, a, hero, However, due,...</td>\n",
       "    </tr>\n",
       "    <tr>\n",
       "      <th>1</th>\n",
       "      <td>0</td>\n",
       "      <td>An old vaudeville team of Willy Clark (Walter Matthau) and Al Lewis (George Burns) were one of the best known but they broke up hating each other. Over 20 years later they agree to get together fo...</td>\n",
       "      <td>An old vaudeville team of Willy Clark Walter Matthau and Al Lewis George Burns were one of the best known but they broke up hating each other Over 20 years later they agree to get together for a T...</td>\n",
       "      <td>[An, old, vaudeville, team, of, Willy, Clark, Walter, Matthau, and, Al, Lewis, George, Burns, were, one, of, the, best, known, but, they, broke, up, hating, each, other, Over, 20, years, later, th...</td>\n",
       "    </tr>\n",
       "    <tr>\n",
       "      <th>2</th>\n",
       "      <td>1</td>\n",
       "      <td>Burlinson and Thornton give an outstanding performance in this movie, along with Dennehy. Although it is at first thought to be only about love, it really goes down deeper than that. The beauty of...</td>\n",
       "      <td>Burlinson and Thornton give an outstanding performance in this movie along with Dennehy Although it is at first thought to be only about love it really goes down deeper than that The beauty of nat...</td>\n",
       "      <td>[Burlinson, and, Thornton, give, an, outstanding, performance, in, this, movie, along, with, Dennehy, Although, it, is, at, first, thought, to, be, only, about, love, it, really, goes, down, deepe...</td>\n",
       "    </tr>\n",
       "    <tr>\n",
       "      <th>3</th>\n",
       "      <td>0</td>\n",
       "      <td>Louis Sachar's compelling children's classic is about as Disney as Freddy Krueger. It's got murder, racism, facial disfigurement and killer lizards.&lt;br /&gt;&lt;br /&gt;Tightly plotted, it's a multi-layere...</td>\n",
       "      <td>Louis Sachars compelling childrens classic is about as Disney as Freddy Krueger Its got murder racism facial disfigurement and killer lizardsbr br Tightly plotted its a multilayered interlinking s...</td>\n",
       "      <td>[Louis, Sachars, compelling, childrens, classic, is, about, as, Disney, as, Freddy, Krueger, Its, got, murder, racism, facial, disfigurement, and, killer, lizardsbr, br, Tightly, plotted, its, a, ...</td>\n",
       "    </tr>\n",
       "    <tr>\n",
       "      <th>4</th>\n",
       "      <td>0</td>\n",
       "      <td>This is one of my favourite martial arts movies from Hong Kong. It is one of John Woo's earliest films and one of only a few traditional martial arts movies he directed. You can see his influences...</td>\n",
       "      <td>This is one of my favourite martial arts movies from Hong Kong It is one of John Woos earliest films and one of only a few traditional martial arts movies he directed You can see his influences fr...</td>\n",
       "      <td>[This, is, one, of, my, favourite, martial, arts, movies, from, Hong, Kong, It, is, one, of, John, Woos, earliest, films, and, one, of, only, a, few, traditional, martial, arts, movies, he, direct...</td>\n",
       "    </tr>\n",
       "  </tbody>\n",
       "</table>\n",
       "</div>"
      ],
      "text/plain": [
       "  label  \\\n",
       "0     1   \n",
       "1     0   \n",
       "2     1   \n",
       "3     0   \n",
       "4     0   \n",
       "\n",
       "                                                                                                                                                                                                      body  \\\n",
       "0  This film is a bit reminiscent of the German film, THE NEVERENDING STORY because a child is magically transported to a strange land in order to be a hero. However, due to far superior modern techn...   \n",
       "1  An old vaudeville team of Willy Clark (Walter Matthau) and Al Lewis (George Burns) were one of the best known but they broke up hating each other. Over 20 years later they agree to get together fo...   \n",
       "2  Burlinson and Thornton give an outstanding performance in this movie, along with Dennehy. Although it is at first thought to be only about love, it really goes down deeper than that. The beauty of...   \n",
       "3  Louis Sachar's compelling children's classic is about as Disney as Freddy Krueger. It's got murder, racism, facial disfigurement and killer lizards.<br /><br />Tightly plotted, it's a multi-layere...   \n",
       "4  This is one of my favourite martial arts movies from Hong Kong. It is one of John Woo's earliest films and one of only a few traditional martial arts movies he directed. You can see his influences...   \n",
       "\n",
       "                                                                                                                                                                                              body_nopunct  \\\n",
       "0  This film is a bit reminiscent of the German film THE NEVERENDING STORY because a child is magically transported to a strange land in order to be a hero However due to far superior modern technolo...   \n",
       "1  An old vaudeville team of Willy Clark Walter Matthau and Al Lewis George Burns were one of the best known but they broke up hating each other Over 20 years later they agree to get together for a T...   \n",
       "2  Burlinson and Thornton give an outstanding performance in this movie along with Dennehy Although it is at first thought to be only about love it really goes down deeper than that The beauty of nat...   \n",
       "3  Louis Sachars compelling childrens classic is about as Disney as Freddy Krueger Its got murder racism facial disfigurement and killer lizardsbr br Tightly plotted its a multilayered interlinking s...   \n",
       "4  This is one of my favourite martial arts movies from Hong Kong It is one of John Woos earliest films and one of only a few traditional martial arts movies he directed You can see his influences fr...   \n",
       "\n",
       "                                                                                                                                                                                            body_tokenized  \n",
       "0  [This, film, is, a, bit, reminiscent, of, the, German, film, THE, NEVERENDING, STORY, because, a, child, is, magically, transported, to, a, strange, land, in, order, to, be, a, hero, However, due,...  \n",
       "1  [An, old, vaudeville, team, of, Willy, Clark, Walter, Matthau, and, Al, Lewis, George, Burns, were, one, of, the, best, known, but, they, broke, up, hating, each, other, Over, 20, years, later, th...  \n",
       "2  [Burlinson, and, Thornton, give, an, outstanding, performance, in, this, movie, along, with, Dennehy, Although, it, is, at, first, thought, to, be, only, about, love, it, really, goes, down, deepe...  \n",
       "3  [Louis, Sachars, compelling, childrens, classic, is, about, as, Disney, as, Freddy, Krueger, Its, got, murder, racism, facial, disfigurement, and, killer, lizardsbr, br, Tightly, plotted, its, a, ...  \n",
       "4  [This, is, one, of, my, favourite, martial, arts, movies, from, Hong, Kong, It, is, one, of, John, Woos, earliest, films, and, one, of, only, a, few, traditional, martial, arts, movies, he, direct...  "
      ]
     },
     "execution_count": 20,
     "metadata": {},
     "output_type": "execute_result"
    }
   ],
   "source": [
    "data['body_tokenized'] = data['body_nopunct'].apply(lambda x: tokenize(x))\n",
    "data.head()"
   ]
  },
  {
   "cell_type": "code",
   "execution_count": null,
   "metadata": {},
   "outputs": [],
   "source": []
  }
 ],
 "metadata": {
  "kernelspec": {
   "display_name": "sentiment_analysis_movie_review",
   "language": "python",
   "name": "sentiment_analysis_movie_review"
  },
  "language_info": {
   "codemirror_mode": {
    "name": "ipython",
    "version": 3
   },
   "file_extension": ".py",
   "mimetype": "text/x-python",
   "name": "python",
   "nbconvert_exporter": "python",
   "pygments_lexer": "ipython3",
   "version": "3.7.2"
  }
 },
 "nbformat": 4,
 "nbformat_minor": 2
}
