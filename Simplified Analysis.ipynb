{
 "cells": [
  {
   "cell_type": "code",
   "execution_count": 1,
   "metadata": {},
   "outputs": [
    {
     "name": "stdout",
     "output_type": "stream",
     "text": [
      "Train samples shape : (25000,)\n",
      "Train labels shape  : (25000,)\n",
      "Test samples shape  : (25000,)\n",
      "Test labels shape   : (25000,)\n"
     ]
    }
   ],
   "source": [
    "# Read in text data \n",
    "import nltk\n",
    "import os\n",
    "import pandas as pd\n",
    "import numpy as np\n",
    "pd.set_option('display.max_colwidth', 200) # set max number of characters can see in pd dataframe\n",
    "import tensorflow as tf\n",
    "from tensorflow.python.keras import models\n",
    "from tensorflow.python.keras.layers import Dense\n",
    "from tensorflow.python.keras.layers import Dropout\n",
    "\n",
    "#path location to the directory\n",
    "path = 'data/aclimdb'\n",
    "\n",
    "# Load the dataset\n",
    "train_texts = []\n",
    "train_labels = []\n",
    "test_texts = []\n",
    "test_labels = []\n",
    "\n",
    "for dataset in ['train', 'test']:\n",
    "    for category in ['pos', 'neg']:\n",
    "        dataset_path = os.path.join(path, dataset, category)\n",
    "        for fname in os.listdir(dataset_path):\n",
    "            if fname.endswith('.txt'):\n",
    "                with open(os.path.join(dataset_path, fname)) as f:\n",
    "                    \n",
    "                    if dataset == 'train': train_texts.append(f.read())\n",
    "                    else: test_texts.append(f.read())\n",
    "                \n",
    "                label = 0 if category == 'neg' else 1\n",
    "                if dataset == 'train': \n",
    "                    train_labels.append(label)\n",
    "                else: \n",
    "                    test_labels.append(label)\n",
    "\n",
    "# Converting to np.array\n",
    "train_texts = np.array(train_texts)\n",
    "train_labels = np.array(train_labels)\n",
    "test_texts = np.array(test_texts)\n",
    "test_labels = np.array(test_labels)\n",
    "\n",
    "print ('Train samples shape :', train_texts.shape)\n",
    "print ('Train labels shape  :', train_labels.shape)\n",
    "print ('Test samples shape  :', test_texts.shape)\n",
    "print ('Test labels shape   :', test_labels.shape)"
   ]
  },
  {
   "cell_type": "code",
   "execution_count": 2,
   "metadata": {},
   "outputs": [
    {
     "data": {
      "text/html": [
       "<div>\n",
       "<style scoped>\n",
       "    .dataframe tbody tr th:only-of-type {\n",
       "        vertical-align: middle;\n",
       "    }\n",
       "\n",
       "    .dataframe tbody tr th {\n",
       "        vertical-align: top;\n",
       "    }\n",
       "\n",
       "    .dataframe thead th {\n",
       "        text-align: right;\n",
       "    }\n",
       "</style>\n",
       "<table border=\"1\" class=\"dataframe\">\n",
       "  <thead>\n",
       "    <tr style=\"text-align: right;\">\n",
       "      <th></th>\n",
       "      <th>label</th>\n",
       "      <th>body</th>\n",
       "    </tr>\n",
       "  </thead>\n",
       "  <tbody>\n",
       "    <tr>\n",
       "      <th>0</th>\n",
       "      <td>0</td>\n",
       "      <td>David Mamet is a very interesting and a very un-equal director. His first movie 'House of Games' was the one I liked best, and it set a series of films with characters whose perspective of life ch...</td>\n",
       "    </tr>\n",
       "    <tr>\n",
       "      <th>1</th>\n",
       "      <td>1</td>\n",
       "      <td>I enjoyed this movie as a kid when it came out, and to this day still do. A simple story involving the search for a kidnapped girl and an adventurer literally straight out of paperback lore. It ha...</td>\n",
       "    </tr>\n",
       "    <tr>\n",
       "      <th>2</th>\n",
       "      <td>1</td>\n",
       "      <td>In a time when Hollywood is making money by showing our weaknesses, despair, crime, drugs, and war, along comes this film which reminds us the concept of the \"Indomitable Spirit\". If you are feeli...</td>\n",
       "    </tr>\n",
       "    <tr>\n",
       "      <th>3</th>\n",
       "      <td>1</td>\n",
       "      <td>\"Perhaps we can arrange a meet. \" \"Where are you now? \" \"I'm sitting in my office. \" \"I doubt that. \" \"Why would you doubt that? \" \"If you were in your office right now we'd be having this convers...</td>\n",
       "    </tr>\n",
       "    <tr>\n",
       "      <th>4</th>\n",
       "      <td>0</td>\n",
       "      <td>Space Camp, which had the unfortunate luck to be planned around the time of the Challenger accident, deserves such luck. The \"stars\" make a mockery of acting, Lea Thomson actually being turned sid...</td>\n",
       "    </tr>\n",
       "    <tr>\n",
       "      <th>5</th>\n",
       "      <td>1</td>\n",
       "      <td>Having first watched the movie at 14, I remember being struck by hearing the word 'govno' (sh*t) for the first time ever on the then-still-Soviet TV (I bet it really was *the* first time in histor...</td>\n",
       "    </tr>\n",
       "    <tr>\n",
       "      <th>6</th>\n",
       "      <td>0</td>\n",
       "      <td>\"Unhinged\" is one strange little film, a forgotten slasher from the golden age of the genre. It's hard to really write a satisfying review of this film simply because of the fact that the film is ...</td>\n",
       "    </tr>\n",
       "    <tr>\n",
       "      <th>7</th>\n",
       "      <td>1</td>\n",
       "      <td>The 4th Pokemon movie made me cry when Celebi died. Don't you dare say that Pokemon sucks! I don't like it when people say that.... I've liked Pokemon for 5 or 6 years, so everyone should enjoy Po...</td>\n",
       "    </tr>\n",
       "    <tr>\n",
       "      <th>8</th>\n",
       "      <td>1</td>\n",
       "      <td>This is a movie that gets better each time I see it. There are so many nuanced performances in this. William Tracey, as Pepi, is a delight, bringing sharp comic relief. Joseph Schildkraut as Vadas...</td>\n",
       "    </tr>\n",
       "    <tr>\n",
       "      <th>9</th>\n",
       "      <td>0</td>\n",
       "      <td>Gene Hackman gets himself busted out of prison by a nameless government agency who want him for an assassination. It's a given of course that Hackman has the proficient skills for the job.&lt;br /&gt;&lt;b...</td>\n",
       "    </tr>\n",
       "  </tbody>\n",
       "</table>\n",
       "</div>"
      ],
      "text/plain": [
       "   label  \\\n",
       "0      0   \n",
       "1      1   \n",
       "2      1   \n",
       "3      1   \n",
       "4      0   \n",
       "5      1   \n",
       "6      0   \n",
       "7      1   \n",
       "8      1   \n",
       "9      0   \n",
       "\n",
       "                                                                                                                                                                                                      body  \n",
       "0  David Mamet is a very interesting and a very un-equal director. His first movie 'House of Games' was the one I liked best, and it set a series of films with characters whose perspective of life ch...  \n",
       "1  I enjoyed this movie as a kid when it came out, and to this day still do. A simple story involving the search for a kidnapped girl and an adventurer literally straight out of paperback lore. It ha...  \n",
       "2  In a time when Hollywood is making money by showing our weaknesses, despair, crime, drugs, and war, along comes this film which reminds us the concept of the \"Indomitable Spirit\". If you are feeli...  \n",
       "3  \"Perhaps we can arrange a meet. \" \"Where are you now? \" \"I'm sitting in my office. \" \"I doubt that. \" \"Why would you doubt that? \" \"If you were in your office right now we'd be having this convers...  \n",
       "4  Space Camp, which had the unfortunate luck to be planned around the time of the Challenger accident, deserves such luck. The \"stars\" make a mockery of acting, Lea Thomson actually being turned sid...  \n",
       "5  Having first watched the movie at 14, I remember being struck by hearing the word 'govno' (sh*t) for the first time ever on the then-still-Soviet TV (I bet it really was *the* first time in histor...  \n",
       "6  \"Unhinged\" is one strange little film, a forgotten slasher from the golden age of the genre. It's hard to really write a satisfying review of this film simply because of the fact that the film is ...  \n",
       "7  The 4th Pokemon movie made me cry when Celebi died. Don't you dare say that Pokemon sucks! I don't like it when people say that.... I've liked Pokemon for 5 or 6 years, so everyone should enjoy Po...  \n",
       "8  This is a movie that gets better each time I see it. There are so many nuanced performances in this. William Tracey, as Pepi, is a delight, bringing sharp comic relief. Joseph Schildkraut as Vadas...  \n",
       "9  Gene Hackman gets himself busted out of prison by a nameless government agency who want him for an assassination. It's a given of course that Hackman has the proficient skills for the job.<br /><b...  "
      ]
     },
     "execution_count": 2,
     "metadata": {},
     "output_type": "execute_result"
    }
   ],
   "source": [
    "full_corpus = pd.DataFrame({\n",
    "    'label': train_labels,\n",
    "    'body': train_texts\n",
    "})\n",
    "\n",
    "data = full_corpus.sample(frac=1).reset_index(drop=True)\n",
    "data = data[:5000]\n",
    "data.head(10)"
   ]
  },
  {
   "cell_type": "code",
   "execution_count": 3,
   "metadata": {},
   "outputs": [
    {
     "name": "stdout",
     "output_type": "stream",
     "text": [
      "Input data has 5000 rows and 2 columns\n"
     ]
    }
   ],
   "source": [
    "# Exploring dataset\n",
    "# What is the shape of this datataset\n",
    "\n",
    "print(\"Input data has {} rows and {} columns\".format(len(data), len(data.columns)))"
   ]
  },
  {
   "cell_type": "code",
   "execution_count": 4,
   "metadata": {},
   "outputs": [
    {
     "name": "stdout",
     "output_type": "stream",
     "text": [
      "Out of 5000 rows, 2502 are negative, 2498 are positive\n"
     ]
    }
   ],
   "source": [
    "# How many revies are negative and positive?\n",
    "\n",
    "print(\"Out of {} rows, {} are negative, {} are positive\".format(len(data), \n",
    "                                                       len(data[data['label']==0]), \n",
    "                                                       len(data[data['label']==1])))"
   ]
  },
  {
   "cell_type": "code",
   "execution_count": 5,
   "metadata": {},
   "outputs": [
    {
     "name": "stdout",
     "output_type": "stream",
     "text": [
      "Number of null in label: 0\n",
      "Number of null in text: 0\n"
     ]
    }
   ],
   "source": [
    "# Is there any missing data?\n",
    "print(\"Number of null in label: {}\".format(data['label'].isnull().sum()))\n",
    "print(\"Number of null in text: {}\".format(data['body'].isnull().sum()))"
   ]
  },
  {
   "cell_type": "code",
   "execution_count": 6,
   "metadata": {},
   "outputs": [],
   "source": [
    "# Data Pre-processing\n",
    "import re\n",
    "from sklearn.feature_extraction.text import TfidfVectorizer\n",
    "import string\n",
    "\n",
    "stopwords = nltk.corpus.stopwords.words('english')\n",
    "ps = nltk.PorterStemmer()\n",
    "\n",
    "def clean_text(text):\n",
    "    text = \"\".join([word.lower() for word in text if word not in string.punctuation])\n",
    "    tokens = re.split('\\W+', text)\n",
    "    text = [ps.stem(word) for word in tokens if word not in stopwords]\n",
    "    return text"
   ]
  },
  {
   "cell_type": "code",
   "execution_count": 7,
   "metadata": {},
   "outputs": [],
   "source": [
    "from sklearn.model_selection import train_test_split\n",
    "\n",
    "X_train, X_test, y_train, y_test = train_test_split(data['body'], data['label'], test_size=0.2)"
   ]
  },
  {
   "cell_type": "code",
   "execution_count": 8,
   "metadata": {},
   "outputs": [],
   "source": [
    "# Vectorizing data\n",
    "tfidf_vect = TfidfVectorizer(analyzer=clean_text)\n",
    "tfidf_vect_fit = tfidf_vect.fit(X_train)\n",
    "\n",
    "tfidf_train = tfidf_vect_fit.transform(X_train)\n",
    "tfidf_test = tfidf_vect_fit.transform(X_test)"
   ]
  },
  {
   "cell_type": "code",
   "execution_count": 9,
   "metadata": {},
   "outputs": [],
   "source": [
    "X_train_vect = pd.DataFrame(tfidf_train.toarray())\n",
    "X_test_vect = pd.DataFrame(tfidf_test.toarray())"
   ]
  },
  {
   "cell_type": "code",
   "execution_count": 14,
   "metadata": {},
   "outputs": [
    {
     "name": "stderr",
     "output_type": "stream",
     "text": [
      "WARNING: Logging before flag parsing goes to stderr.\n",
      "W0715 18:11:36.957902 140735564440448 deprecation.py:506] From /Users/alex/Desktop/NLP/sentiment_analysis_movie_review/venv/lib/python3.7/site-packages/tensorflow/python/ops/init_ops.py:1251: calling VarianceScaling.__init__ (from tensorflow.python.ops.init_ops) with dtype is deprecated and will be removed in a future version.\n",
      "Instructions for updating:\n",
      "Call initializer instance with the dtype argument instead of passing it to the constructor\n",
      "W0715 18:11:36.999993 140735564440448 deprecation.py:323] From /Users/alex/Desktop/NLP/sentiment_analysis_movie_review/venv/lib/python3.7/site-packages/tensorflow/python/ops/nn_impl.py:180: add_dispatch_support.<locals>.wrapper (from tensorflow.python.ops.array_ops) is deprecated and will be removed in a future version.\n",
      "Instructions for updating:\n",
      "Use tf.where in 2.0, which has the same broadcast rule as np.where\n"
     ]
    },
    {
     "name": "stdout",
     "output_type": "stream",
     "text": [
      "Model: \"sequential\"\n",
      "_________________________________________________________________\n",
      "Layer (type)                 Output Shape              Param #   \n",
      "=================================================================\n",
      "dense (Dense)                (None, 10)                331400    \n",
      "_________________________________________________________________\n",
      "dense_1 (Dense)              (None, 1)                 11        \n",
      "=================================================================\n",
      "Total params: 331,411\n",
      "Trainable params: 331,411\n",
      "Non-trainable params: 0\n",
      "_________________________________________________________________\n"
     ]
    }
   ],
   "source": [
    "from tensorflow.python.keras.models import Sequential\n",
    "from tensorflow.python.keras import layers\n",
    "from tensorflow.python.keras.layers import Embedding\n",
    "from tensorflow.python.keras.layers import LSTM\n",
    "\n",
    "input_dim = X_train_vect.shape[1]  # Number of features\n",
    "\n",
    "model = Sequential()\n",
    "model.add(layers.Dense(10, input_dim=input_dim, activation='relu'))\n",
    "model.add(layers.Dense(1, activation='sigmoid'))\n",
    "\n",
    "model.compile(loss='binary_crossentropy', \n",
    "               optimizer='adam', \n",
    "               metrics=['accuracy'])\n",
    "model.summary()"
   ]
  },
  {
   "cell_type": "code",
   "execution_count": 15,
   "metadata": {},
   "outputs": [],
   "source": [
    "history = model.fit(X_train_vect, y_train,\n",
    "                     epochs=100,\n",
    "                     verbose=False,\n",
    "                     validation_data=(X_test_vect, y_test))"
   ]
  },
  {
   "cell_type": "code",
   "execution_count": 16,
   "metadata": {},
   "outputs": [
    {
     "name": "stdout",
     "output_type": "stream",
     "text": [
      "Training Accuracy: 1.0000\n",
      "Testing Accuracy:  0.8610\n"
     ]
    }
   ],
   "source": [
    "loss, accuracy = model.evaluate(X_train_vect, y_train, verbose=False)\n",
    "print(\"Training Accuracy: {:.4f}\".format(accuracy))\n",
    "loss, accuracy = model.evaluate(X_test_vect, y_test, verbose=False)\n",
    "print(\"Testing Accuracy:  {:.4f}\".format(accuracy))"
   ]
  },
  {
   "cell_type": "code",
   "execution_count": 17,
   "metadata": {},
   "outputs": [],
   "source": [
    "import matplotlib.pyplot as plt\n",
    "plt.style.use('ggplot')\n",
    "\n",
    "def plot_history(history):\n",
    "    acc = history.history['acc']\n",
    "    val_acc = history.history['val_acc']\n",
    "    loss = history.history['loss']\n",
    "    val_loss = history.history['val_loss']\n",
    "    x = range(1, len(acc) + 1)\n",
    "\n",
    "    plt.figure(figsize=(12, 5))\n",
    "    plt.subplot(1, 2, 1)\n",
    "    plt.plot(x, acc, 'b', label='Training acc')\n",
    "    plt.plot(x, val_acc, 'r', label='Validation acc')\n",
    "    plt.title('Training and validation accuracy')\n",
    "    plt.legend()\n",
    "    plt.subplot(1, 2, 2)\n",
    "    plt.plot(x, loss, 'b', label='Training loss')\n",
    "    plt.plot(x, val_loss, 'r', label='Validation loss')\n",
    "    plt.title('Training and validation loss')\n",
    "    plt.legend()"
   ]
  },
  {
   "cell_type": "code",
   "execution_count": 18,
   "metadata": {},
   "outputs": [
    {
     "data": {
      "image/png": "[encoded data removed]",
      "text/plain": [
       "<Figure size 864x360 with 2 Axes>"
      ]
     },
     "metadata": {
      "needs_background": "light"
     },
     "output_type": "display_data"
    }
   ],
   "source": [
    "plot_history(history)"
   ]
  }
 ],
 "metadata": {
  "kernelspec": {
   "display_name": "sentiment_analysis_movie_review",
   "language": "python",
   "name": "sentiment_analysis_movie_review"
  },
  "language_info": {
   "codemirror_mode": {
    "name": "ipython",
    "version": 3
   },
   "file_extension": ".py",
   "mimetype": "text/x-python",
   "name": "python",
   "nbconvert_exporter": "python",
   "pygments_lexer": "ipython3",
   "version": "3.7.2"
  }
 },
 "nbformat": 4,
 "nbformat_minor": 2
}
